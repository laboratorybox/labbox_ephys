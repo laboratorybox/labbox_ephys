{
 "cells": [
  {
   "cell_type": "markdown",
   "metadata": {},
   "source": [
    "## Example SpikeForest import\n",
    "\n",
    "This notebook will import a few SpikeForest recordings into the labbox_ephys database"
   ]
  },
  {
   "cell_type": "code",
   "execution_count": null,
   "metadata": {},
   "outputs": [],
   "source": [
    "# Define some functions\n",
    "\n",
    "import lbdb\n",
    "import kachery as ka\n",
    "from spikeforest2_utils import MdaRecordingExtractor, MdaSortingExtractor, AutoRecordingExtractor, AutoSortingExtractor\n",
    "import hither\n",
    "import numpy as np\n",
    "\n",
    "def geom_from_recording(recording):\n",
    "    channel_ids = recording.get_channel_ids()\n",
    "    location0 = recording.get_channel_property(channel_ids[0], 'location')\n",
    "    nd = len(location0)\n",
    "    M = len(channel_ids)\n",
    "    geom = np.zeros((M, nd))\n",
    "    for ii in range(len(channel_ids)):\n",
    "        location_ii = recording.get_channel_property(channel_ids[ii], 'location')\n",
    "        geom[ii, :] = list(location_ii)\n",
    "    return geom\n",
    "\n",
    "def import_recording(*, recording_id, recording_path, sorting_true_path=None):\n",
    "    print(f'Importing {recording_id}')\n",
    "    recording = AutoRecordingExtractor(recording_path, download=True)\n",
    "    doc = dict(\n",
    "        recording_id=recording_id,\n",
    "        recording_path=recording_path,\n",
    "        sampling_frequency=recording.get_sampling_frequency(),\n",
    "        channel_ids=recording.get_channel_ids(),\n",
    "        geom=geom_from_recording(recording).tolist(),\n",
    "        num_frames=recording.get_num_frames()\n",
    "    )\n",
    "    lbdb.update(collection='recordings', query=dict(recording_id=recording_id), update=doc, upsert=True)\n",
    "    if sorting_true_path is not None:\n",
    "        sorting_true = AutoSortingExtractor(sorting_true_path)\n",
    "        sorting_true_doc=dict(\n",
    "            sorting_path=sorting_true_path,\n",
    "            unit_ids=sorting_true.get_unit_ids().tolist()\n",
    "        )\n",
    "        lbdb.update(collection='recordings', query=dict(recording_id=recording_id), update={'$set': dict(sorting_true=sorting_true_doc)})"
   ]
  },
  {
   "cell_type": "code",
   "execution_count": null,
   "metadata": {},
   "outputs": [],
   "source": [
    "# Auto import local recordings\n",
    "\n",
    "def auto_import_recordings(dirpath, prefix):\n",
    "    print(f'Checking {dirpath}')\n",
    "    x = ka.read_dir(dirpath)\n",
    "    for dirname, dd in x['dirs'].items():\n",
    "        if 'raw.mda' in dd['files'] and 'params.json' in dd['files'] and 'geom.csv' in dd['files']:\n",
    "            recording_path = ka.store_dir(dirpath + '/' + dirname)\n",
    "            import_recording(recording_id=f'{prefix}{dirname}', recording_path=recording_path)\n",
    "        else:\n",
    "            auto_import_recordings(dirpath + '/' + dirname, prefix=prefix + dirname + '/')\n",
    "\n",
    "auto_import_recordings(dirpath='/data/local-data', prefix='local:')"
   ]
  },
  {
   "cell_type": "code",
   "execution_count": null,
   "metadata": {},
   "outputs": [],
   "source": [
    "# Now list all of the recordings in the database\n",
    "\n",
    "recordings = lbdb.find(collection='recordings', query=dict())\n",
    "for rec in recordings:\n",
    "    print(rec['recording_id'])"
   ]
  },
  {
   "cell_type": "code",
   "execution_count": null,
   "metadata": {},
   "outputs": [],
   "source": [
    "# Write a toy example recording for testing\n",
    "# import spikeextractors as se\n",
    "# from spikeforest2_utils import MdaRecordingExtractor\n",
    "# R, S = se.example_datasets.toy_example()\n",
    "# MdaRecordingExtractor.write_recording(recording=R, save_path='toy_example1')"
   ]
  }
 ],
 "metadata": {
  "kernelspec": {
   "display_name": "Python 3",
   "language": "python",
   "name": "python3"
  },
  "language_info": {
   "codemirror_mode": {
    "name": "ipython",
    "version": 3
   },
   "file_extension": ".py",
   "mimetype": "text/x-python",
   "name": "python",
   "nbconvert_exporter": "python",
   "pygments_lexer": "ipython3",
   "version": "3.6.8"
  }
 },
 "nbformat": 4,
 "nbformat_minor": 4
}
