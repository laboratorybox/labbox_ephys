{
 "cells": [
  {
   "cell_type": "markdown",
   "metadata": {},
   "source": [
    "## Example local import\n",
    "\n",
    "This notebook will auto-import recordings from the local disk"
   ]
  },
  {
   "cell_type": "code",
   "execution_count": null,
   "metadata": {},
   "outputs": [],
   "source": [
    "# Define some functions\n",
    "\n",
    "import lbdb\n",
    "import kachery as ka\n",
    "import labbox_ephys as le\n",
    "import hither\n",
    "import numpy as np\n",
    "import json\n",
    "\n",
    "def geom_from_recording(recording):\n",
    "    channel_ids = recording.get_channel_ids()\n",
    "    location0 = recording.get_channel_property(channel_ids[0], 'location')\n",
    "    nd = len(location0)\n",
    "    M = len(channel_ids)\n",
    "    geom = np.zeros((M, nd))\n",
    "    for ii in range(len(channel_ids)):\n",
    "        location_ii = recording.get_channel_property(channel_ids[ii], 'location')\n",
    "        geom[ii, :] = list(location_ii)\n",
    "    return geom\n",
    "\n",
    "def import_recording(*, recording_id, recording):\n",
    "    print(f'Importing {recording_id}')\n",
    "    doc = dict(\n",
    "        recording_id=recording_id,\n",
    "        recording=recording.object(),\n",
    "        sampling_frequency=recording.get_sampling_frequency(),\n",
    "        channel_ids=recording.get_channel_ids(),\n",
    "        channel_groups=recording.get_channel_groups(),\n",
    "        geom=geom_from_recording(recording).tolist(),\n",
    "        num_frames=recording.get_num_frames()\n",
    "    )\n",
    "    le.dbcollection('recordings').replace_one(dict(recording_id=recording_id), doc, upsert=True)"
   ]
  },
  {
   "cell_type": "code",
   "execution_count": null,
   "metadata": {},
   "outputs": [],
   "source": [
    "# Auto import local recordings\n",
    "\n",
    "def auto_import_recordings(dirpath, prefix):\n",
    "    print(f'Checking {dirpath}')\n",
    "    x = ka.read_dir(dirpath)\n",
    "    for dirname, dd in x['dirs'].items():\n",
    "        if le.LabboxEphysRecordingExtractor.can_load_dir(dirpath + '/' + dirname):\n",
    "            recording = LabboxEphysRecordingExtractor(dirpath + '/' + dirname)\n",
    "            import_recording(recording_id=f'{prefix}{dirname}', recording=recording)\n",
    "        else:\n",
    "            auto_import_recordings(dirpath + '/' + dirname, prefix=prefix + dirname + '/')\n",
    "\n",
    "auto_import_recordings(dirpath='/data/local-data', prefix='local:')"
   ]
  },
  {
   "cell_type": "code",
   "execution_count": null,
   "metadata": {},
   "outputs": [],
   "source": [
    "# List all of the recordings in the database\n",
    "\n",
    "recordings = le.dbcollection('recordings').find(dict())\n",
    "for rec in recordings:\n",
    "    print(rec['recording_id'])"
   ]
  },
  {
   "cell_type": "code",
   "execution_count": null,
   "metadata": {},
   "outputs": [],
   "source": [
    "# Write a toy example recording for testing\n",
    "# import spikeextractors as se\n",
    "# from spikeforest2_utils import MdaRecordingExtractor\n",
    "# R, S = se.example_datasets.toy_example()\n",
    "# MdaRecordingExtractor.write_recording(recording=R, save_path='toy_example1')"
   ]
  }
 ],
 "metadata": {
  "kernelspec": {
   "display_name": "Python 3",
   "language": "python",
   "name": "python3"
  },
  "language_info": {
   "codemirror_mode": {
    "name": "ipython",
    "version": 3
   },
   "file_extension": ".py",
   "mimetype": "text/x-python",
   "name": "python",
   "nbconvert_exporter": "python",
   "pygments_lexer": "ipython3",
   "version": "3.6.9"
  }
 },
 "nbformat": 4,
 "nbformat_minor": 4
}
