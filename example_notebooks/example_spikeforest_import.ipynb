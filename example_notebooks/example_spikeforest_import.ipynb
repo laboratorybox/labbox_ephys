{
 "cells": [
  {
   "cell_type": "markdown",
   "metadata": {},
   "source": [
    "## Example SpikeForest import\n",
    "\n",
    "This notebook will import a few SpikeForest recordings into the labbox_ephys database"
   ]
  },
  {
   "cell_type": "code",
   "execution_count": null,
   "metadata": {},
   "outputs": [],
   "source": [
    "# Define some functions\n",
    "\n",
    "import lbdb\n",
    "import kachery as ka\n",
    "from spikeforest2_utils import MdaRecordingExtractor, MdaSortingExtractor, AutoRecordingExtractor, AutoSortingExtractor\n",
    "import hither\n",
    "import numpy as np\n",
    "\n",
    "def geom_from_recording(recording):\n",
    "    channel_ids = recording.get_channel_ids()\n",
    "    location0 = recording.get_channel_property(channel_ids[0], 'location')\n",
    "    nd = len(location0)\n",
    "    M = len(channel_ids)\n",
    "    geom = np.zeros((M, nd))\n",
    "    for ii in range(len(channel_ids)):\n",
    "        location_ii = recording.get_channel_property(channel_ids[ii], 'location')\n",
    "        geom[ii, :] = list(location_ii)\n",
    "    return geom\n",
    "\n",
    "def import_recording(*, recording_id, recording_path, sorting_true_path=None):\n",
    "    print(f'Importing {recording_id}')\n",
    "    recording = AutoRecordingExtractor(recording_path, download=True)\n",
    "    doc = dict(\n",
    "        recording_id=recording_id,\n",
    "        recording_path=recording_path,\n",
    "        sampling_frequency=recording.get_sampling_frequency(),\n",
    "        channel_ids=recording.get_channel_ids(),\n",
    "        geom=geom_from_recording(recording).tolist(),\n",
    "        num_frames=recording.get_num_frames()\n",
    "    )\n",
    "    lbdb.update(collection='recordings', query=dict(recording_id=recording_id), update=doc, upsert=True)\n",
    "    if sorting_true_path is not None:\n",
    "        sorting_true = AutoSortingExtractor(sorting_true_path)\n",
    "        sorting_true_doc=dict(\n",
    "            sorting_path=sorting_true_path,\n",
    "            unit_ids=sorting_true.get_unit_ids().tolist()\n",
    "        )\n",
    "        lbdb.update(collection='recordings', query=dict(recording_id=recording_id), update={'$set': dict(sorting_true=sorting_true_doc)})"
   ]
  },
  {
   "cell_type": "code",
   "execution_count": null,
   "metadata": {},
   "outputs": [],
   "source": [
    "# Import some example SpikeForest recordings\n",
    "\n",
    "with ka.config(fr='default_readonly'):\n",
    "    # SYNTH_MAGLAND example\n",
    "    import_recording(\n",
    "        recording_id='sf:synth_magland_noise10_K10_C4/001_synth',\n",
    "        recording_path='sha1://ee5214337b2e01910a92c3613a4b8ad4be4dc476/SYNTH_MAGLAND/synth_magland_noise10_K10_C4/001_synth.json',\n",
    "        sorting_true_path='sha1://ff64f1713227c017052bf21b41ddf764320aa606/SYNTH_MAGLAND/synth_magland_noise10_K10_C4/001_synth.firings_true.json'\n",
    "    )\n",
    "    \n",
    "    # PAIRED_KAMPFF example\n",
    "    import_recording(\n",
    "        recording_id='sf:paired_kampff/2014_11_25_Pair_3_0',\n",
    "        recording_path='sha1://b96e34b72c258be205e1bf2a7aaaad72dfd8e351/PAIRED_KAMPFF/paired_kampff/2014_11_25_Pair_3_0.json',\n",
    "        sorting_true_path='sha1://86f472cba745921dabb9b4e745f2e3547f9fb3e9/PAIRED_KAMPFF/paired_kampff/2014_11_25_Pair_3_0.firings_true.json'\n",
    "    )\n",
    "    \n",
    "    # PAIRED_BOYDEN example\n",
    "    import_recording(\n",
    "        recording_id='sf:paired_boyden32c/1103_1_1',\n",
    "        recording_path='sha1://0c89b66696ff92e529d97a31fe41af7949111a9a/PAIRED_BOYDEN/paired_boyden32c/1103_1_1.json',\n",
    "        sorting_true_path='sha1://fe3f7c918200ffe44db7759911e80978540d5201/PAIRED_BOYDEN/paired_boyden32c/1103_1_1.firings_true.json'\n",
    "    )"
   ]
  },
  {
   "cell_type": "code",
   "execution_count": null,
   "metadata": {},
   "outputs": [],
   "source": [
    "# Now list all of the recordings in the database\n",
    "\n",
    "recordings = lbdb.find(collection='recordings', query=dict())\n",
    "for rec in recordings:\n",
    "    print(rec['recording_id'])"
   ]
  }
 ],
 "metadata": {
  "kernelspec": {
   "display_name": "Python 3",
   "language": "python",
   "name": "python3"
  },
  "language_info": {
   "codemirror_mode": {
    "name": "ipython",
    "version": 3
   },
   "file_extension": ".py",
   "mimetype": "text/x-python",
   "name": "python",
   "nbconvert_exporter": "python",
   "pygments_lexer": "ipython3",
   "version": "3.6.8"
  }
 },
 "nbformat": 4,
 "nbformat_minor": 4
}
