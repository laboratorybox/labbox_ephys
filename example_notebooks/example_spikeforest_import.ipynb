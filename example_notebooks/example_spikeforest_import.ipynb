{
 "cells": [
  {
   "cell_type": "markdown",
   "metadata": {},
   "source": [
    "## Example SpikeForest import\n",
    "\n",
    "This notebook will import a few SpikeForest recordings into the labbox_ephys database"
   ]
  },
  {
   "cell_type": "code",
   "execution_count": null,
   "metadata": {},
   "outputs": [],
   "source": [
    "# Define some functions\n",
    "\n",
    "import lbdb\n",
    "import kachery as ka\n",
    "import labbox_ephys as le\n",
    "import hither\n",
    "import numpy as np\n",
    "\n",
    "def geom_from_recording(recording):\n",
    "    channel_ids = recording.get_channel_ids()\n",
    "    location0 = recording.get_channel_property(channel_ids[0], 'location')\n",
    "    nd = len(location0)\n",
    "    M = len(channel_ids)\n",
    "    geom = np.zeros((M, nd))\n",
    "    for ii in range(len(channel_ids)):\n",
    "        location_ii = recording.get_channel_property(channel_ids[ii], 'location')\n",
    "        geom[ii, :] = list(location_ii)\n",
    "    return geom\n",
    "\n",
    "def import_recording(*, recording_id, recording):\n",
    "    print(f'Importing {recording_id}')\n",
    "    doc = dict(\n",
    "        recording_id=recording_id,\n",
    "        recording=recording.object(),\n",
    "        sampling_frequency=recording.get_sampling_frequency(),\n",
    "        channel_ids=recording.get_channel_ids(),\n",
    "        channel_groups=recording.get_channel_groups(),\n",
    "        geom=geom_from_recording(recording).tolist(),\n",
    "        num_frames=recording.get_num_frames()\n",
    "    )\n",
    "    le.dbcollection('recordings').replace_one(dict(recording_id=recording_id), doc, upsert=True)\n",
    "    \n",
    "def store_sorting_in_database(*, recording, sorting, recording_id, group_id, sorting_name, sorter_name, sorting_params, runtime_info):\n",
    "    sorting_id = f'{recording_id}::{group_id}::{sorting_name}'\n",
    "    doc = dict(\n",
    "        recording_id=recording_id,\n",
    "        group_id=group_id,\n",
    "        recording=recording.object(),\n",
    "        sorting=sorting.object(),\n",
    "        sorting_name=sorting_name,\n",
    "        sorter_name=sorter_name,\n",
    "        sorting_id=sorting_id,\n",
    "        unit_ids=sorting.get_unit_ids().tolist(),\n",
    "        runtime_info=runtime_info\n",
    "    )\n",
    "    le.dbcollection('sortings').replace_one(dict(sorting_id=sorting_id), doc, upsert=True)\n",
    "\n",
    "def import_recording_with_truth(recording_id, recording, sorting_true):\n",
    "    import_recording(recording_id=recording_id, recording=recording)\n",
    "    store_sorting_in_database(recording_id=recording_id, recording=recording, sorting_name='truth', sorting=sorting_true, group_id=0, sorter_name='truth', sorting_params=dict(), runtime_info=None)\n",
    "\n",
    "def upload(x):\n",
    "    if type(x) == str:\n",
    "        if x.startswith('sha1://') or x.startswith('sha1dir://'):\n",
    "            print(f'Storing file: {x}')\n",
    "            ka.store_file(x)\n",
    "        if x.endswith('.json'):\n",
    "            obj = ka.load_object(x)\n",
    "            upload(obj)\n",
    "    elif type(x) == dict:\n",
    "        for k, v in x.items():\n",
    "            upload(v)"
   ]
  },
  {
   "cell_type": "code",
   "execution_count": 11,
   "metadata": {},
   "outputs": [
    {
     "name": "stdout",
     "output_type": "stream",
     "text": [
      "Storing file: sha1://ee5214337b2e01910a92c3613a4b8ad4be4dc476/SYNTH_MAGLAND/synth_magland_noise10_K10_C4/001_synth.json\n",
      "Storing file: sha1dir://fb52d510d2543634e247e0d2d1d4390be9ed9e20.synth_magland/datasets_noise10_K10_C4/001_synth/raw.mda\n",
      "Storing file: sha1://ff64f1713227c017052bf21b41ddf764320aa606/SYNTH_MAGLAND/synth_magland_noise10_K10_C4/001_synth.firings_true.json\n",
      "Storing file: sha1dir://fb52d510d2543634e247e0d2d1d4390be9ed9e20.synth_magland/datasets_noise10_K10_C4/001_synth/firings_true.mda\n",
      "Importing sf:synth_magland_noise10_K10_C4/001_synth\n",
      "Storing file: sha1://b96e34b72c258be205e1bf2a7aaaad72dfd8e351/PAIRED_KAMPFF/paired_kampff/2014_11_25_Pair_3_0.json\n",
      "Storing file: sha1dir://51570fce195942dcb9d6228880310e1f4ca1395b.paired_kampff/2014_11_25_Pair_3_0/raw.mda\n",
      "Storing file: sha1://86f472cba745921dabb9b4e745f2e3547f9fb3e9/PAIRED_KAMPFF/paired_kampff/2014_11_25_Pair_3_0.firings_true.json\n",
      "Storing file: sha1dir://51570fce195942dcb9d6228880310e1f4ca1395b.paired_kampff/2014_11_25_Pair_3_0/firings_true.mda\n",
      "Importing sf:paired_boyden32c/1103_1_1\n",
      "Storing file: sha1://5a2811e1c42843597651227cff1ae9e448fd6e5d/SYNTH_MAGLAND/synth_magland_noise20_K20_C4/002_synth.json\n",
      "Storing file: sha1dir://fb52d510d2543634e247e0d2d1d4390be9ed9e20.synth_magland/datasets_noise20_K20_C4/002_synth/raw.mda\n",
      "Downloading file --- (274.7 MiB): http://132.249.245.245:24342/get/sha1/7ea402b7929b1678344308e45da168e83bc2a13b?channel=public&signature=d0b75c20c875a944477bddd36e700c396c80c62a -> /home/magland/kachery-storage/sha1/7e/a4/02/7ea402b7929b1678344308e45da168e83bc2a13b\n",
      "Downloaded file (274.7 MiB) in 42.7771737575531 sec.\n",
      "Uploading to kachery --- (274.7 MiB): /home/magland/kachery-storage/sha1/7e/a4/02/7ea402b7929b1678344308e45da168e83bc2a13b -> http://52.9.11.30:8080/set/sha1/7ea402b7929b1678344308e45da168e83bc2a13b?channel=labbox_ephys_readwrite&signature=e35027a81e69d57d3f0670825a6a74daa702d8cc\n",
      "File uploaded (274.7 MiB) in 12.783689498901367 sec\n",
      "Storing file: sha1://1a01f75647fe8bb73de76b7a48441d970ca698c2/SYNTH_MAGLAND/synth_magland_noise20_K20_C4/002_synth.firings_true.json\n",
      "Storing file: sha1dir://fb52d510d2543634e247e0d2d1d4390be9ed9e20.synth_magland/datasets_noise20_K20_C4/002_synth/firings_true.mda\n",
      "Downloading file --- (657.7 KiB): http://132.249.245.245:24342/get/sha1/6a7ca289a789745b1c6a49a7466486089555e554?channel=public&signature=cb5c2d34b5ed211de9ee4a9c48bd2d456498ce40 -> /home/magland/kachery-storage/sha1/6a/7c/a2/6a7ca289a789745b1c6a49a7466486089555e554\n",
      "Downloaded file (657.7 KiB) in 0.6346511840820312 sec.\n",
      "Uploading to kachery --- (657.7 KiB): /home/magland/kachery-storage/sha1/6a/7c/a2/6a7ca289a789745b1c6a49a7466486089555e554 -> http://52.9.11.30:8080/set/sha1/6a7ca289a789745b1c6a49a7466486089555e554?channel=labbox_ephys_readwrite&signature=de2b7af889280a66c488e6984179d2ee1e2e68d5\n",
      "File uploaded (657.7 KiB) in 0.4848167896270752 sec\n",
      "Importing sf:synth_magland_noise20_K20_C4/001_synth\n"
     ]
    }
   ],
   "source": [
    "# Import some example SpikeForest recordings\n",
    "\n",
    "with ka.config(fr='default_readonly'):\n",
    "    # SYNTH_MAGLAND example\n",
    "    recording_path = 'sha1://ee5214337b2e01910a92c3613a4b8ad4be4dc476/SYNTH_MAGLAND/synth_magland_noise10_K10_C4/001_synth.json'\n",
    "    sorting_true_path = 'sha1://ff64f1713227c017052bf21b41ddf764320aa606/SYNTH_MAGLAND/synth_magland_noise10_K10_C4/001_synth.firings_true.json'\n",
    "    with ka.config(to='labbox_ephys_readwrite'):\n",
    "        upload(recording_path)\n",
    "        upload(sorting_true_path)\n",
    "    import_recording_with_truth(\n",
    "        recording_id='sf:synth_magland_noise10_K10_C4/001_synth',\n",
    "        recording=le.LabboxEphysRecordingExtractor(recording_path),\n",
    "        sorting_true=le.LabboxEphysSortingExtractor(sorting_true_path)\n",
    "    )\n",
    "    \n",
    "    recording_path = 'sha1://b96e34b72c258be205e1bf2a7aaaad72dfd8e351/PAIRED_KAMPFF/paired_kampff/2014_11_25_Pair_3_0.json'\n",
    "    sorting_true_path = 'sha1://86f472cba745921dabb9b4e745f2e3547f9fb3e9/PAIRED_KAMPFF/paired_kampff/2014_11_25_Pair_3_0.firings_true.json'\n",
    "    with ka.config(to='labbox_ephys_readwrite'):\n",
    "        upload(recording_path)\n",
    "        upload(sorting_true_path)\n",
    "    import_recording_with_truth(\n",
    "        recording_id='sf:paired_boyden32c/1103_1_1',\n",
    "        recording=le.LabboxEphysRecordingExtractor(recording_path),\n",
    "        sorting_true=le.LabboxEphysSortingExtractor(sorting_true_path)\n",
    "    )\n",
    "        \n",
    "    recording_path = 'sha1://5a2811e1c42843597651227cff1ae9e448fd6e5d/SYNTH_MAGLAND/synth_magland_noise20_K20_C4/002_synth.json'\n",
    "    sorting_true_path = 'sha1://1a01f75647fe8bb73de76b7a48441d970ca698c2/SYNTH_MAGLAND/synth_magland_noise20_K20_C4/002_synth.firings_true.json'\n",
    "    with ka.config(to='labbox_ephys_readwrite'):\n",
    "        upload(recording_path)\n",
    "        upload(sorting_true_path)\n",
    "    import_recording_with_truth(\n",
    "        recording_id='sf:synth_magland_noise20_K20_C4/001_synth',\n",
    "        recording=le.LabboxEphysRecordingExtractor(recording_path),\n",
    "        sorting_true=le.LabboxEphysSortingExtractor(sorting_true_path)\n",
    "    )\n",
    "        \n",
    "#     # PAIRED_BOYDEN example\n",
    "#     import_recording_with_truth(\n",
    "#         recording_id='sf:paired_boyden32c/1103_1_1',\n",
    "#         recording=le.LabboxEphysRecordingExtractor('sha1://0c89b66696ff92e529d97a31fe41af7949111a9a/PAIRED_BOYDEN/paired_boyden32c/1103_1_1.json'),\n",
    "#         sorting_true=le.LabboxEphysSortingExtractor('sha1://fe3f7c918200ffe44db7759911e80978540d5201/PAIRED_BOYDEN/paired_boyden32c/1103_1_1.firings_true.json')\n",
    "#     )"
   ]
  },
  {
   "cell_type": "code",
   "execution_count": 10,
   "metadata": {},
   "outputs": [
    {
     "name": "stdout",
     "output_type": "stream",
     "text": [
      "sf:synth_magland_noise10_K10_C4/001_synth\n",
      "sf:paired_boyden32c/1103_1_1\n"
     ]
    }
   ],
   "source": [
    "# List all of the recordings in the database\n",
    "\n",
    "recordings = le.dbcollection('recordings').find(dict())\n",
    "for rec in recordings:\n",
    "    print(rec['recording_id'])"
   ]
  },
  {
   "cell_type": "code",
   "execution_count": null,
   "metadata": {},
   "outputs": [],
   "source": [
    "# List all of the recordings in the database\n",
    "\n",
    "recordings = le.dbcollection('sortings').find(dict())\n",
    "for rec in recordings:\n",
    "    print(rec['sorting_id'])"
   ]
  },
  {
   "cell_type": "code",
   "execution_count": null,
   "metadata": {},
   "outputs": [],
   "source": []
  }
 ],
 "metadata": {
  "kernelspec": {
   "display_name": "Python 3",
   "language": "python",
   "name": "python3"
  },
  "language_info": {
   "codemirror_mode": {
    "name": "ipython",
    "version": 3
   },
   "file_extension": ".py",
   "mimetype": "text/x-python",
   "name": "python",
   "nbconvert_exporter": "python",
   "pygments_lexer": "ipython3",
   "version": "3.6.9"
  }
 },
 "nbformat": 4,
 "nbformat_minor": 4
}
