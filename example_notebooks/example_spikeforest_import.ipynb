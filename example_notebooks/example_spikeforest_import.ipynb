{
 "cells": [
  {
   "cell_type": "markdown",
   "metadata": {},
   "source": [
    "## Example SpikeForest import\n",
    "\n",
    "This notebook will import a few SpikeForest recordings into the labbox_ephys database"
   ]
  },
  {
   "cell_type": "code",
   "execution_count": null,
   "metadata": {},
   "outputs": [],
   "source": [
    "# Define some functions\n",
    "\n",
    "import lbdb\n",
    "import kachery as ka\n",
    "import labbox_ephys as le\n",
    "import hither\n",
    "import numpy as np\n",
    "\n",
    "def geom_from_recording(recording):\n",
    "    channel_ids = recording.get_channel_ids()\n",
    "    location0 = recording.get_channel_property(channel_ids[0], 'location')\n",
    "    nd = len(location0)\n",
    "    M = len(channel_ids)\n",
    "    geom = np.zeros((M, nd))\n",
    "    for ii in range(len(channel_ids)):\n",
    "        location_ii = recording.get_channel_property(channel_ids[ii], 'location')\n",
    "        geom[ii, :] = list(location_ii)\n",
    "    return geom\n",
    "\n",
    "def import_recording(*, recording_id, recording):\n",
    "    print(f'Importing {recording_id}')\n",
    "    doc = dict(\n",
    "        recording_id=recording_id,\n",
    "        recording=recording.object(),\n",
    "        sampling_frequency=recording.get_sampling_frequency(),\n",
    "        channel_ids=recording.get_channel_ids(),\n",
    "        geom=geom_from_recording(recording).tolist(),\n",
    "        num_frames=recording.get_num_frames()\n",
    "    )\n",
    "    le.dbcollection('recordings').replace_one(dict(recording_id=recording_id), doc, upsert=True)\n",
    "    \n",
    "def store_sorting_in_database(*, recording, sorting, recording_id, group_id, sorting_name, sorter_name, sorting_params, runtime_info):\n",
    "    sorting_id = f'{recording_id}::{group_id}::{sorting_name}'\n",
    "    doc = dict(\n",
    "        recording_id=recording_id,\n",
    "        group_id=group_id,\n",
    "        recording=recording.object(),\n",
    "        sorting=sorting.object(),\n",
    "        sorting_name=sorting_name,\n",
    "        sorter_name=sorter_name,\n",
    "        sorting_id=sorting_id,\n",
    "        unit_ids=sorting.get_unit_ids().tolist(),\n",
    "        runtime_info=runtime_info\n",
    "    )\n",
    "    le.dbcollection('sortings').replace_one(dict(sorting_id=sorting_id), doc, upsert=True)\n",
    "\n",
    "def import_recording_with_truth(recording_id, recording, sorting_true):\n",
    "    import_recording(recording_id=recording_id, recording=recording)\n",
    "    store_sorting_in_database(recording_id=recording_id, recording=recording, sorting_name='truth', sorting=sorting_true, group_id=0, sorter_name='truth', sorting_params=dict(), runtime_info=None)"
   ]
  },
  {
   "cell_type": "code",
   "execution_count": null,
   "metadata": {},
   "outputs": [],
   "source": [
    "# Import some example SpikeForest recordings\n",
    "\n",
    "with ka.config(fr='default_readonly'):\n",
    "    # SYNTH_MAGLAND example\n",
    "    import_recording_with_truth(\n",
    "        recording_id='sf:synth_magland_noise10_K10_C4/001_synth',\n",
    "        recording=le.LabboxEphysRecordingExtractor('sha1://ee5214337b2e01910a92c3613a4b8ad4be4dc476/SYNTH_MAGLAND/synth_magland_noise10_K10_C4/001_synth.json'),\n",
    "        sorting_true=le.LabboxEphysSortingExtractor('sha1://ff64f1713227c017052bf21b41ddf764320aa606/SYNTH_MAGLAND/synth_magland_noise10_K10_C4/001_synth.firings_true.json')\n",
    "    )\n",
    "    \n",
    "    # PAIRED_KAMPFF example\n",
    "    import_recording_with_truth(\n",
    "        recording_id='sf:paired_kampff/2014_11_25_Pair_3_0',\n",
    "        recording=le.LabboxEphysRecordingExtractor('sha1://b96e34b72c258be205e1bf2a7aaaad72dfd8e351/PAIRED_KAMPFF/paired_kampff/2014_11_25_Pair_3_0.json'),\n",
    "        sorting_true=le.LabboxEphysSortingExtractor('sha1://86f472cba745921dabb9b4e745f2e3547f9fb3e9/PAIRED_KAMPFF/paired_kampff/2014_11_25_Pair_3_0.firings_true.json')\n",
    "    )\n",
    "    \n",
    "    # PAIRED_BOYDEN example\n",
    "    import_recording_with_truth(\n",
    "        recording_id='sf:paired_boyden32c/1103_1_1',\n",
    "        recording=le.LabboxEphysRecordingExtractor('sha1://0c89b66696ff92e529d97a31fe41af7949111a9a/PAIRED_BOYDEN/paired_boyden32c/1103_1_1.json'),\n",
    "        sorting_true=le.LabboxEphysSortingExtractor('sha1://fe3f7c918200ffe44db7759911e80978540d5201/PAIRED_BOYDEN/paired_boyden32c/1103_1_1.firings_true.json')\n",
    "    )"
   ]
  },
  {
   "cell_type": "code",
   "execution_count": null,
   "metadata": {},
   "outputs": [],
   "source": [
    "# List all of the recordings in the database\n",
    "\n",
    "recordings = le.dbcollection('recordings').find(dict())\n",
    "for rec in recordings:\n",
    "    print(rec['recording_id'])"
   ]
  },
  {
   "cell_type": "code",
   "execution_count": null,
   "metadata": {},
   "outputs": [],
   "source": [
    "# List all of the recordings in the database\n",
    "\n",
    "recordings = le.dbcollection('sortings').find(dict())\n",
    "for rec in recordings:\n",
    "    print(rec['sorting_id'])"
   ]
  },
  {
   "cell_type": "code",
   "execution_count": null,
   "metadata": {},
   "outputs": [],
   "source": []
  }
 ],
 "metadata": {
  "kernelspec": {
   "display_name": "Python 3",
   "language": "python",
   "name": "python3"
  },
  "language_info": {
   "codemirror_mode": {
    "name": "ipython",
    "version": 3
   },
   "file_extension": ".py",
   "mimetype": "text/x-python",
   "name": "python",
   "nbconvert_exporter": "python",
   "pygments_lexer": "ipython3",
   "version": "3.6.9"
  }
 },
 "nbformat": 4,
 "nbformat_minor": 4
}
