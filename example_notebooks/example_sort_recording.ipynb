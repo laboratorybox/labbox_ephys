{
 "cells": [
  {
   "cell_type": "markdown",
   "metadata": {},
   "source": [
    "## Example: sort recording\n",
    "\n",
    "This notebook shows how to sort a recording from the labbox_ephys database of recordings and insert the result into the labbox_ephys database of sortings"
   ]
  },
  {
   "cell_type": "code",
   "execution_count": null,
   "metadata": {},
   "outputs": [],
   "source": [
    "# imports\n",
    "\n",
    "import labbox_ephys as le\n",
    "import hither2 as hi"
   ]
  },
  {
   "cell_type": "code",
   "execution_count": null,
   "metadata": {},
   "outputs": [],
   "source": [
    "# Specify the recording ID (you can get the ID from the recordings table)\n",
    "recording_id = 'sf:paired_kampff/2014_11_25_Pair_3_0'\n",
    "\n",
    "# Specify the sorter name and parameters\n",
    "sorter_name = 'mountainsort4'\n",
    "sorting_params = dict(\n",
    "    detect_sign=-1,\n",
    "    adjacency_radius=50,\n",
    "    clip_size=50,\n",
    "    detect_threshold=3,\n",
    "    detect_interval=10,\n",
    "    freq_min=300,\n",
    "    freq_max=6000,\n",
    "    whiten=True,\n",
    "    curation=False,\n",
    "    filter=True\n",
    ")\n",
    "\n",
    "# Do the sorting on the compute resource\n",
    "with hi.config(container=True, job_handler=le.remote_job_handler()):\n",
    "    le.sort_recording_from_database(\n",
    "        recording_id=recording_id,\n",
    "        sorter_name=sorter_name,\n",
    "        sorting_params=sorting_params,\n",
    "        sorting_name=sorter_name\n",
    "    )"
   ]
  },
  {
   "cell_type": "code",
   "execution_count": null,
   "metadata": {},
   "outputs": [],
   "source": []
  }
 ],
 "metadata": {
  "kernelspec": {
   "display_name": "Python 3",
   "language": "python",
   "name": "python3"
  },
  "language_info": {
   "codemirror_mode": {
    "name": "ipython",
    "version": 3
   },
   "file_extension": ".py",
   "mimetype": "text/x-python",
   "name": "python",
   "nbconvert_exporter": "python",
   "pygments_lexer": "ipython3",
   "version": "3.7.5"
  }
 },
 "nbformat": 4,
 "nbformat_minor": 4
}
