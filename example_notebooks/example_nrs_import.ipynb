{
 "cells": [
  {
   "cell_type": "markdown",
   "metadata": {},
   "source": [
    "## Example NRS import\n",
    "\n",
    "This notebook will import recordings in .nrs format from the cloud"
   ]
  },
  {
   "cell_type": "code",
   "execution_count": null,
   "metadata": {},
   "outputs": [],
   "source": [
    "# Define some functions\n",
    "\n",
    "import lbdb\n",
    "import kachery as ka\n",
    "from labbox_ephys import AutoRecordingExtractor, AutoSortingExtractor\n",
    "import hither\n",
    "import numpy as np\n",
    "\n",
    "def geom_from_recording(recording):\n",
    "    channel_ids = recording.get_channel_ids()\n",
    "    location0 = recording.get_channel_property(channel_ids[0], 'location')\n",
    "    nd = len(location0)\n",
    "    M = len(channel_ids)\n",
    "    geom = np.zeros((M, nd))\n",
    "    for ii in range(len(channel_ids)):\n",
    "        location_ii = recording.get_channel_property(channel_ids[ii], 'location')\n",
    "        geom[ii, :] = list(location_ii)\n",
    "    return geom\n",
    "\n",
    "def import_recording(*, recording_id, recording_path):\n",
    "    print(f'Importing {recording_id}')\n",
    "    recording = AutoRecordingExtractor(recording_path, download=True)\n",
    "    doc = dict(\n",
    "        recording_id=recording_id,\n",
    "        recording_path=recording_path,\n",
    "        sampling_frequency=recording.get_sampling_frequency(),\n",
    "        channel_ids=recording.get_channel_ids(),\n",
    "        geom=geom_from_recording(recording).tolist(),\n",
    "        num_frames=recording.get_num_frames()\n",
    "    )\n",
    "    lbdb.update(collection='recordings', query=dict(recording_id=recording_id), update=doc, upsert=True)"
   ]
  },
  {
   "cell_type": "code",
   "execution_count": null,
   "metadata": {},
   "outputs": [],
   "source": [
    "# Import recordings from cloud\n",
    "\n",
    "with ka.config(fr='default_readonly'):\n",
    "    #\n",
    "    import_recording(\n",
    "        recording_id='nrs:128chan_sampleCA1',\n",
    "        recording_path='sha1dir://80b58d66a95546365f2803993794f6cb7d7d31f8.128chan_sampleCA1'\n",
    "    )"
   ]
  },
  {
   "cell_type": "code",
   "execution_count": null,
   "metadata": {},
   "outputs": [],
   "source": [
    "# List all of the recordings in the database\n",
    "\n",
    "recordings = lbdb.find(collection='recordings', query=dict())\n",
    "for rec in recordings:\n",
    "    print(rec['recording_id'])"
   ]
  },
  {
   "cell_type": "code",
   "execution_count": null,
   "metadata": {},
   "outputs": [],
   "source": [
    "# List all of the sortings in the database\n",
    "\n",
    "sortings = lbdb.find(collection='sortings', query=dict())\n",
    "for rec in sortings:\n",
    "    print(rec['sorting_id'])"
   ]
  }
 ],
 "metadata": {
  "kernelspec": {
   "display_name": "Python 3",
   "language": "python",
   "name": "python3"
  },
  "language_info": {
   "codemirror_mode": {
    "name": "ipython",
    "version": 3
   },
   "file_extension": ".py",
   "mimetype": "text/x-python",
   "name": "python",
   "nbconvert_exporter": "python",
   "pygments_lexer": "ipython3",
   "version": "3.7.5"
  }
 },
 "nbformat": 4,
 "nbformat_minor": 4
}
