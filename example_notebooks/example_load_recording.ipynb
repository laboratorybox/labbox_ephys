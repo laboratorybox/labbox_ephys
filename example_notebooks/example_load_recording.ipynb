{
 "cells": [
  {
   "cell_type": "markdown",
   "metadata": {},
   "source": [
    "## Example: load recording\n",
    "\n",
    "This notebook shows how to load a recording from the labbox_ephys database into a Python object and then use the SpikeInterface library to interact with and view the recording."
   ]
  },
  {
   "cell_type": "code",
   "execution_count": null,
   "metadata": {},
   "outputs": [],
   "source": [
    "# define some functions\n",
    "\n",
    "import lbdb\n",
    "import types\n",
    "from labbox_ephys import AutoRecordingExtractor\n",
    "import spikewidgets as sw\n",
    "import spikeextractors as se\n",
    "import spiketoolkit as st\n",
    "import matplotlib.pyplot as plt\n",
    "def load_recording(recording_id):\n",
    "    x = lbdb.find(collection='recordings', query=dict(recording_id=recording_id))\n",
    "    assert len(x) > 0, f'Unable to find recording with id: {recording_id}'\n",
    "    assert len(x) <= 1, f'Unexpected: found more than one recording with id: {recording_id}'\n",
    "    doc = x[0]\n",
    "    R = AutoRecordingExtractor(doc['recording_path'])\n",
    "    ret = types.SimpleNamespace()\n",
    "    ret.document = doc\n",
    "    ret.extractor = R\n",
    "    return ret"
   ]
  },
  {
   "cell_type": "code",
   "execution_count": null,
   "metadata": {},
   "outputs": [],
   "source": [
    "# Load the recording by ID (you can get the idea from the recordings table)\n",
    "recording_id = 'sf:paired_kampff/2014_11_25_Pair_3_0'\n",
    "R = load_recording(recording_id).extractor"
   ]
  },
  {
   "cell_type": "code",
   "execution_count": null,
   "metadata": {},
   "outputs": [],
   "source": [
    "# print information from the recording\n",
    "sampling_freq = R.get_sampling_frequency()\n",
    "channel_ids = R.get_channel_ids()\n",
    "duration_sec = R.get_num_frames() / R.get_sampling_frequency()\n",
    "print(f'{len(channel_ids)} channels; {sampling_freq} Hz; {duration_sec} sec')"
   ]
  },
  {
   "cell_type": "code",
   "execution_count": null,
   "metadata": {},
   "outputs": [],
   "source": [
    "# Get a sub-recording (60 seconds of a subset of channels)\n",
    "R2 = se.SubRecordingExtractor(parent_recording=R, start_frame=0, end_frame=sampling_freq*60, channel_ids=[1, 2, 3, 4, 5, 6, 7, 8, 9, 10])"
   ]
  },
  {
   "cell_type": "code",
   "execution_count": null,
   "metadata": {},
   "outputs": [],
   "source": [
    "# Filter the recording (lazy execution)\n",
    "R2f = st.preprocessing.bandpass_filter(recording=R2, freq_min=300, freq_max=6000, freq_wid=1000)"
   ]
  },
  {
   "cell_type": "code",
   "execution_count": null,
   "metadata": {},
   "outputs": [],
   "source": [
    "# Plot a portion of the recording and the filtered recording\n",
    "plt.figure(figsize=(16,5))\n",
    "sw.TimeseriesWidget(recording=R2, trange=(1.3, 1.4), ax=plt.gca()).plot()\n",
    "plt.title(f'{recording_id} - raw');\n",
    "\n",
    "plt.figure(figsize=(16,5))\n",
    "sw.TimeseriesWidget(recording=R2f, trange=(1.3, 1.4), ax=plt.gca()).plot()\n",
    "plt.title(f'{recording_id} - filtered');"
   ]
  }
 ],
 "metadata": {
  "kernelspec": {
   "display_name": "Python 3",
   "language": "python",
   "name": "python3"
  },
  "language_info": {
   "codemirror_mode": {
    "name": "ipython",
    "version": 3
   },
   "file_extension": ".py",
   "mimetype": "text/x-python",
   "name": "python",
   "nbconvert_exporter": "python",
   "pygments_lexer": "ipython3",
   "version": "3.6.8"
  }
 },
 "nbformat": 4,
 "nbformat_minor": 4
}